{
 "cells": [
  {
   "cell_type": "code",
   "execution_count": 1,
   "metadata": {},
   "outputs": [
    {
     "data": {
      "text/html": [
       "<script>\n",
       "code_show=true; \n",
       "function code_toggle() {\n",
       " if (code_show){\n",
       " $('div.input').hide();\n",
       " } else {\n",
       " $('div.input').show();\n",
       " }\n",
       " code_show = !code_show\n",
       "} \n",
       "$( document ).ready(code_toggle);\n",
       "</script>\n",
       "<form action=\"javascript:code_toggle()\"><input type=\"submit\" value=\"Click here to toggle on/off the raw code.\"></form>"
      ],
      "text/plain": [
       "<IPython.core.display.HTML object>"
      ]
     },
     "execution_count": 1,
     "metadata": {},
     "output_type": "execute_result"
    }
   ],
   "source": [
    "from IPython.display import HTML\n",
    "\n",
    "#This code bit is directly taken from this notebook: https://www.kaggle.com/agodwinp/stacking-house-prices-walkthrough-to-top-5/notebook\n",
    "HTML('''<script>\n",
    "code_show=true; \n",
    "function code_toggle() {\n",
    " if (code_show){\n",
    " $('div.input').hide();\n",
    " } else {\n",
    " $('div.input').show();\n",
    " }\n",
    " code_show = !code_show\n",
    "} \n",
    "$( document ).ready(code_toggle);\n",
    "</script>\n",
    "<form action=\"javascript:code_toggle()\"><input type=\"submit\" value=\"Click here to toggle on/off the raw code.\"></form>''')"
   ]
  },
  {
   "cell_type": "code",
   "execution_count": 2,
   "metadata": {},
   "outputs": [
    {
     "name": "stdout",
     "output_type": "stream",
     "text": [
      "Packages imported.\n"
     ]
    }
   ],
   "source": [
    "import pandas as pd\n",
    "import numpy as np\n",
    "import matplotlib.pyplot as plt\n",
    "import matplotlib\n",
    "import seaborn as sns\n",
    "plt.style.use('seaborn-darkgrid')\n",
    "print('Packages imported.')"
   ]
  },
  {
   "cell_type": "markdown",
   "metadata": {},
   "source": [
    "# Index\n",
    "\n",
    "1. [First Look At the Data](#First-Look-At-the-Data)\n",
    "   * [Sample Period](#Sample-Period)\n",
    "   * [Duplicates](#Duplicates)\n",
    "   * [Missing Observations](#Missing-Observations)\n",
    "   * [Some Facts About Buyers and Recommenders](#Some-Facts-About-Buyers-and-Recommenders)\n",
    "   * [Recommendation Chains / Networks](#Recommendation-Chains-/-Networks)\n",
    "   * [Weekdays](#Weekdays)\n",
    "   * [Time of Day](#Time-of-Day)\n",
    "   * [From Trial to Purchase](#From-Trial-to-Purchase)\n",
    "2. [Hearsay Recommendations](#Hearsay-Recommendations)\n",
    "3. [Impact of the Super Bowl](#Impact-of-the-Super-Bowl)\n",
    "4. [From Recommender to Buyer Trial](#From-Recommender-to-Buyer-Trial)"
   ]
  },
  {
   "cell_type": "markdown",
   "metadata": {},
   "source": [
    "# First Look At the Data"
   ]
  },
  {
   "cell_type": "code",
   "execution_count": 3,
   "metadata": {},
   "outputs": [
    {
     "name": "stdout",
     "output_type": "stream",
     "text": [
      "Data loaded.\n"
     ]
    }
   ],
   "source": [
    "data = pd.read_excel('data.xlsx')\n",
    "print('Data loaded.')"
   ]
  },
  {
   "cell_type": "code",
   "execution_count": 4,
   "metadata": {},
   "outputs": [
    {
     "data": {
      "text/html": [
       "<div>\n",
       "<style scoped>\n",
       "    .dataframe tbody tr th:only-of-type {\n",
       "        vertical-align: middle;\n",
       "    }\n",
       "\n",
       "    .dataframe tbody tr th {\n",
       "        vertical-align: top;\n",
       "    }\n",
       "\n",
       "    .dataframe thead th {\n",
       "        text-align: right;\n",
       "    }\n",
       "</style>\n",
       "<table border=\"1\" class=\"dataframe\">\n",
       "  <thead>\n",
       "    <tr style=\"text-align: right;\">\n",
       "      <th></th>\n",
       "      <th>buyer_purchase_ts</th>\n",
       "      <th>buyer_id</th>\n",
       "      <th>recommender_id</th>\n",
       "      <th>buyer_trial_start_ts</th>\n",
       "      <th>recommender_trial_start_ts</th>\n",
       "    </tr>\n",
       "  </thead>\n",
       "  <tbody>\n",
       "    <tr>\n",
       "      <th>0</th>\n",
       "      <td>2015-01-06 20:18:00</td>\n",
       "      <td>58dcaf1b05f0b9574d38775790eaef5d</td>\n",
       "      <td>527e9d8a5d103df8f925469224b64ad3</td>\n",
       "      <td>2014-04-30 12:08:00</td>\n",
       "      <td>2014-07-25 12:01:00</td>\n",
       "    </tr>\n",
       "    <tr>\n",
       "      <th>1</th>\n",
       "      <td>2015-02-12 19:40:00</td>\n",
       "      <td>681a885337cd9488593102503ab86642</td>\n",
       "      <td>044c537fbbe9f4202391ddd0749d0582</td>\n",
       "      <td>2014-02-17 12:58:00</td>\n",
       "      <td>NaT</td>\n",
       "    </tr>\n",
       "    <tr>\n",
       "      <th>2</th>\n",
       "      <td>2015-02-23 12:16:00</td>\n",
       "      <td>5c4144de045a798b4ecf69da734969c4</td>\n",
       "      <td>78edc5e188e8a58f9981abf246350a88</td>\n",
       "      <td>2012-08-09 20:42:00</td>\n",
       "      <td>NaT</td>\n",
       "    </tr>\n",
       "    <tr>\n",
       "      <th>3</th>\n",
       "      <td>2015-01-10 23:38:00</td>\n",
       "      <td>99b4d952b31658cc43dd8c8d92109572</td>\n",
       "      <td>1ed2d8d9692d092657d31eae43999c30</td>\n",
       "      <td>2014-07-21 17:36:00</td>\n",
       "      <td>NaT</td>\n",
       "    </tr>\n",
       "    <tr>\n",
       "      <th>4</th>\n",
       "      <td>2015-01-22 13:07:00</td>\n",
       "      <td>99b4d952b31658cc43dd8c8d92109572</td>\n",
       "      <td>1ed2d8d9692d092657d31eae43999c30</td>\n",
       "      <td>2014-07-21 17:36:00</td>\n",
       "      <td>NaT</td>\n",
       "    </tr>\n",
       "  </tbody>\n",
       "</table>\n",
       "</div>"
      ],
      "text/plain": [
       "    buyer_purchase_ts                          buyer_id  \\\n",
       "0 2015-01-06 20:18:00  58dcaf1b05f0b9574d38775790eaef5d   \n",
       "1 2015-02-12 19:40:00  681a885337cd9488593102503ab86642   \n",
       "2 2015-02-23 12:16:00  5c4144de045a798b4ecf69da734969c4   \n",
       "3 2015-01-10 23:38:00  99b4d952b31658cc43dd8c8d92109572   \n",
       "4 2015-01-22 13:07:00  99b4d952b31658cc43dd8c8d92109572   \n",
       "\n",
       "                     recommender_id buyer_trial_start_ts  \\\n",
       "0  527e9d8a5d103df8f925469224b64ad3  2014-04-30 12:08:00   \n",
       "1  044c537fbbe9f4202391ddd0749d0582  2014-02-17 12:58:00   \n",
       "2  78edc5e188e8a58f9981abf246350a88  2012-08-09 20:42:00   \n",
       "3  1ed2d8d9692d092657d31eae43999c30  2014-07-21 17:36:00   \n",
       "4  1ed2d8d9692d092657d31eae43999c30  2014-07-21 17:36:00   \n",
       "\n",
       "  recommender_trial_start_ts  \n",
       "0        2014-07-25 12:01:00  \n",
       "1                        NaT  \n",
       "2                        NaT  \n",
       "3                        NaT  \n",
       "4                        NaT  "
      ]
     },
     "execution_count": 4,
     "metadata": {},
     "output_type": "execute_result"
    }
   ],
   "source": [
    "data.head()"
   ]
  },
  {
   "cell_type": "code",
   "execution_count": 5,
   "metadata": {},
   "outputs": [
    {
     "name": "stdout",
     "output_type": "stream",
     "text": [
      "The data set has 16037 entries.\n"
     ]
    }
   ],
   "source": [
    "print('The data set has {} entries.'.format(len(data)))"
   ]
  },
  {
   "cell_type": "markdown",
   "metadata": {},
   "source": [
    "### Sample Period"
   ]
  },
  {
   "cell_type": "code",
   "execution_count": 6,
   "metadata": {},
   "outputs": [
    {
     "data": {
      "text/html": [
       "<div>\n",
       "<style scoped>\n",
       "    .dataframe tbody tr th:only-of-type {\n",
       "        vertical-align: middle;\n",
       "    }\n",
       "\n",
       "    .dataframe tbody tr th {\n",
       "        vertical-align: top;\n",
       "    }\n",
       "\n",
       "    .dataframe thead th {\n",
       "        text-align: right;\n",
       "    }\n",
       "</style>\n",
       "<table border=\"1\" class=\"dataframe\">\n",
       "  <thead>\n",
       "    <tr style=\"text-align: right;\">\n",
       "      <th></th>\n",
       "      <th>buyer_purchase_ts</th>\n",
       "      <th>buyer_trial_start_ts</th>\n",
       "      <th>recommender_trial_start_ts</th>\n",
       "    </tr>\n",
       "  </thead>\n",
       "  <tbody>\n",
       "    <tr>\n",
       "      <th>first</th>\n",
       "      <td>2015-01-01 00:05:00</td>\n",
       "      <td>2012-02-07 18:04:00</td>\n",
       "      <td>2011-10-21 10:33:00</td>\n",
       "    </tr>\n",
       "    <tr>\n",
       "      <th>last</th>\n",
       "      <td>2015-02-28 23:58:00</td>\n",
       "      <td>2015-12-16 12:45:00</td>\n",
       "      <td>2016-01-16 14:27:00</td>\n",
       "    </tr>\n",
       "  </tbody>\n",
       "</table>\n",
       "</div>"
      ],
      "text/plain": [
       "         buyer_purchase_ts buyer_trial_start_ts recommender_trial_start_ts\n",
       "first  2015-01-01 00:05:00  2012-02-07 18:04:00        2011-10-21 10:33:00\n",
       "last   2015-02-28 23:58:00  2015-12-16 12:45:00        2016-01-16 14:27:00"
      ]
     },
     "execution_count": 6,
     "metadata": {},
     "output_type": "execute_result"
    }
   ],
   "source": [
    "data[['buyer_purchase_ts', \n",
    "      'buyer_trial_start_ts', \n",
    "      'recommender_trial_start_ts']\n",
    "    ].describe().loc[['first', 'last'], :]"
   ]
  },
  {
   "cell_type": "markdown",
   "metadata": {},
   "source": [
    "We can see that\n",
    "* we have data for two months counting by the buyer purchase date\n",
    "* buyers have started a trial outside this two months window, both before and after\n",
    "* recommenders have started trials both before and after the two months window"
   ]
  },
  {
   "cell_type": "markdown",
   "metadata": {},
   "source": [
    "### Duplicates"
   ]
  },
  {
   "cell_type": "code",
   "execution_count": 7,
   "metadata": {},
   "outputs": [
    {
     "name": "stdout",
     "output_type": "stream",
     "text": [
      "Number of duplicates: 56\n"
     ]
    }
   ],
   "source": [
    "print('Number of duplicates: {}'.format(data.duplicated().sum()))"
   ]
  },
  {
   "cell_type": "markdown",
   "metadata": {},
   "source": [
    "An example of a duplicate:"
   ]
  },
  {
   "cell_type": "code",
   "execution_count": 8,
   "metadata": {},
   "outputs": [
    {
     "data": {
      "text/html": [
       "<div>\n",
       "<style scoped>\n",
       "    .dataframe tbody tr th:only-of-type {\n",
       "        vertical-align: middle;\n",
       "    }\n",
       "\n",
       "    .dataframe tbody tr th {\n",
       "        vertical-align: top;\n",
       "    }\n",
       "\n",
       "    .dataframe thead th {\n",
       "        text-align: right;\n",
       "    }\n",
       "</style>\n",
       "<table border=\"1\" class=\"dataframe\">\n",
       "  <thead>\n",
       "    <tr style=\"text-align: right;\">\n",
       "      <th></th>\n",
       "      <th>buyer_purchase_ts</th>\n",
       "      <th>buyer_id</th>\n",
       "      <th>recommender_id</th>\n",
       "      <th>buyer_trial_start_ts</th>\n",
       "      <th>recommender_trial_start_ts</th>\n",
       "    </tr>\n",
       "  </thead>\n",
       "  <tbody>\n",
       "    <tr>\n",
       "      <th>233</th>\n",
       "      <td>2015-01-21 07:58:00</td>\n",
       "      <td>7f9d66e52496c8a68347b08ef86cfbc5</td>\n",
       "      <td>badd37e8870bdb5c83a62ad2fe288c37</td>\n",
       "      <td>2014-11-27 14:04:00</td>\n",
       "      <td>2014-10-08 15:14:00</td>\n",
       "    </tr>\n",
       "    <tr>\n",
       "      <th>234</th>\n",
       "      <td>2015-01-21 07:58:00</td>\n",
       "      <td>7f9d66e52496c8a68347b08ef86cfbc5</td>\n",
       "      <td>badd37e8870bdb5c83a62ad2fe288c37</td>\n",
       "      <td>2014-11-27 14:04:00</td>\n",
       "      <td>2014-10-08 15:14:00</td>\n",
       "    </tr>\n",
       "  </tbody>\n",
       "</table>\n",
       "</div>"
      ],
      "text/plain": [
       "      buyer_purchase_ts                          buyer_id  \\\n",
       "233 2015-01-21 07:58:00  7f9d66e52496c8a68347b08ef86cfbc5   \n",
       "234 2015-01-21 07:58:00  7f9d66e52496c8a68347b08ef86cfbc5   \n",
       "\n",
       "                       recommender_id buyer_trial_start_ts  \\\n",
       "233  badd37e8870bdb5c83a62ad2fe288c37  2014-11-27 14:04:00   \n",
       "234  badd37e8870bdb5c83a62ad2fe288c37  2014-11-27 14:04:00   \n",
       "\n",
       "    recommender_trial_start_ts  \n",
       "233        2014-10-08 15:14:00  \n",
       "234        2014-10-08 15:14:00  "
      ]
     },
     "execution_count": 8,
     "metadata": {},
     "output_type": "execute_result"
    }
   ],
   "source": [
    "data[data.duplicated(keep=False)].head(2)"
   ]
  },
  {
   "cell_type": "markdown",
   "metadata": {},
   "source": [
    "I can come up with two reasons for this:\n",
    "* This could be the result of a glitch, such as a double-click at the time of purchase. If this were the reason, we would probably be able to see a difference in ``buyer_purchase_ts`` at higher sampling frequency. \n",
    "* It could also be the result of purchasing two subscriptions at the same time."
   ]
  },
  {
   "cell_type": "markdown",
   "metadata": {},
   "source": [
    "Assuming that there are mechanisms in place to prevent double-click glitches, we keep the observations."
   ]
  },
  {
   "cell_type": "markdown",
   "metadata": {},
   "source": [
    "Another kind of duplicate arises for the trial start timestamps."
   ]
  },
  {
   "cell_type": "code",
   "execution_count": 9,
   "metadata": {},
   "outputs": [
    {
     "name": "stdout",
     "output_type": "stream",
     "text": [
      "Buyers with multiple trials: 1\n",
      "Recommenders with multiple trials: 5\n"
     ]
    }
   ],
   "source": [
    "buy_nunq_trl = data.groupby('buyer_id').buyer_trial_start_ts.nunique()\n",
    "rec_nunq_trl = data.fillna(-np.inf).groupby('recommender_id').recommender_trial_start_ts.nunique()\n",
    "print('Buyers with multiple trials: {}'.format(\n",
    "    (buy_nunq_trl > 1).sum()))\n",
    "print('Recommenders with multiple trials: {}'.format(\n",
    "    (rec_nunq_trl > 1).sum()))"
   ]
  },
  {
   "cell_type": "markdown",
   "metadata": {},
   "source": [
    "Looking at the buyer side:"
   ]
  },
  {
   "cell_type": "code",
   "execution_count": 10,
   "metadata": {},
   "outputs": [
    {
     "data": {
      "text/html": [
       "<div>\n",
       "<style scoped>\n",
       "    .dataframe tbody tr th:only-of-type {\n",
       "        vertical-align: middle;\n",
       "    }\n",
       "\n",
       "    .dataframe tbody tr th {\n",
       "        vertical-align: top;\n",
       "    }\n",
       "\n",
       "    .dataframe thead th {\n",
       "        text-align: right;\n",
       "    }\n",
       "</style>\n",
       "<table border=\"1\" class=\"dataframe\">\n",
       "  <thead>\n",
       "    <tr style=\"text-align: right;\">\n",
       "      <th></th>\n",
       "      <th>buyer_purchase_ts</th>\n",
       "      <th>buyer_id</th>\n",
       "      <th>recommender_id</th>\n",
       "      <th>buyer_trial_start_ts</th>\n",
       "      <th>recommender_trial_start_ts</th>\n",
       "    </tr>\n",
       "  </thead>\n",
       "  <tbody>\n",
       "    <tr>\n",
       "      <th>757</th>\n",
       "      <td>2015-01-03 11:51:00</td>\n",
       "      <td>59df70121370227503e5e8eab42be282</td>\n",
       "      <td>690ec9132f5c9d5dac8f78b81a81ef12</td>\n",
       "      <td>2012-11-27 13:03:00</td>\n",
       "      <td>2014-08-07 13:45:00</td>\n",
       "    </tr>\n",
       "    <tr>\n",
       "      <th>758</th>\n",
       "      <td>2015-01-03 11:51:00</td>\n",
       "      <td>59df70121370227503e5e8eab42be282</td>\n",
       "      <td>690ec9132f5c9d5dac8f78b81a81ef12</td>\n",
       "      <td>2014-12-06 10:42:00</td>\n",
       "      <td>2014-08-07 13:45:00</td>\n",
       "    </tr>\n",
       "  </tbody>\n",
       "</table>\n",
       "</div>"
      ],
      "text/plain": [
       "      buyer_purchase_ts                          buyer_id  \\\n",
       "757 2015-01-03 11:51:00  59df70121370227503e5e8eab42be282   \n",
       "758 2015-01-03 11:51:00  59df70121370227503e5e8eab42be282   \n",
       "\n",
       "                       recommender_id buyer_trial_start_ts  \\\n",
       "757  690ec9132f5c9d5dac8f78b81a81ef12  2012-11-27 13:03:00   \n",
       "758  690ec9132f5c9d5dac8f78b81a81ef12  2014-12-06 10:42:00   \n",
       "\n",
       "    recommender_trial_start_ts  \n",
       "757        2014-08-07 13:45:00  \n",
       "758        2014-08-07 13:45:00  "
      ]
     },
     "execution_count": 10,
     "metadata": {},
     "output_type": "execute_result"
    }
   ],
   "source": [
    "data[data.buyer_id.isin(buy_nunq_trl[buy_nunq_trl > 1].index)]"
   ]
  },
  {
   "cell_type": "markdown",
   "metadata": {},
   "source": [
    "This entry would likely constitute a single purchase, rather than two. Thus, we decide to drop one of the entries. Looking at the timestamps, it seems intuitive that the entry with the more recent trial start is more relevant to recommendation and purchase. Thus this is the entry we keep."
   ]
  },
  {
   "cell_type": "code",
   "execution_count": 11,
   "metadata": {},
   "outputs": [
    {
     "name": "stdout",
     "output_type": "stream",
     "text": [
      "Entry dropped\n"
     ]
    }
   ],
   "source": [
    "data.drop(757, inplace=True)\n",
    "print('Entry dropped')"
   ]
  },
  {
   "cell_type": "markdown",
   "metadata": {},
   "source": [
    "Next, the recommender side:"
   ]
  },
  {
   "cell_type": "code",
   "execution_count": 12,
   "metadata": {},
   "outputs": [
    {
     "data": {
      "text/html": [
       "<div>\n",
       "<style scoped>\n",
       "    .dataframe tbody tr th:only-of-type {\n",
       "        vertical-align: middle;\n",
       "    }\n",
       "\n",
       "    .dataframe tbody tr th {\n",
       "        vertical-align: top;\n",
       "    }\n",
       "\n",
       "    .dataframe thead th {\n",
       "        text-align: right;\n",
       "    }\n",
       "</style>\n",
       "<table border=\"1\" class=\"dataframe\">\n",
       "  <thead>\n",
       "    <tr style=\"text-align: right;\">\n",
       "      <th></th>\n",
       "      <th>buyer_purchase_ts</th>\n",
       "      <th>buyer_id</th>\n",
       "      <th>recommender_id</th>\n",
       "      <th>buyer_trial_start_ts</th>\n",
       "      <th>recommender_trial_start_ts</th>\n",
       "    </tr>\n",
       "  </thead>\n",
       "  <tbody>\n",
       "    <tr>\n",
       "      <th>10887</th>\n",
       "      <td>2015-02-11 16:29:00</td>\n",
       "      <td>70acf1823d625cd82808d95968b89a3d</td>\n",
       "      <td>08949305e235bb699a78d5dbc2a41c4a</td>\n",
       "      <td>2015-02-04 16:14:00</td>\n",
       "      <td>2012-10-05 12:08:00</td>\n",
       "    </tr>\n",
       "    <tr>\n",
       "      <th>10888</th>\n",
       "      <td>2015-02-11 16:29:00</td>\n",
       "      <td>70acf1823d625cd82808d95968b89a3d</td>\n",
       "      <td>08949305e235bb699a78d5dbc2a41c4a</td>\n",
       "      <td>2015-02-04 16:14:00</td>\n",
       "      <td>2015-03-04 16:17:00</td>\n",
       "    </tr>\n",
       "    <tr>\n",
       "      <th>13840</th>\n",
       "      <td>2015-02-22 00:23:00</td>\n",
       "      <td>48fcc3d282372a0bc0f30c9efbff61c3</td>\n",
       "      <td>34de956d273b0744354913832bbd448a</td>\n",
       "      <td>2015-01-27 05:14:00</td>\n",
       "      <td>2014-10-01 23:43:00</td>\n",
       "    </tr>\n",
       "    <tr>\n",
       "      <th>13841</th>\n",
       "      <td>2015-02-22 00:23:00</td>\n",
       "      <td>48fcc3d282372a0bc0f30c9efbff61c3</td>\n",
       "      <td>34de956d273b0744354913832bbd448a</td>\n",
       "      <td>2015-01-27 05:14:00</td>\n",
       "      <td>2014-10-18 17:47:00</td>\n",
       "    </tr>\n",
       "    <tr>\n",
       "      <th>6826</th>\n",
       "      <td>2015-01-24 16:57:00</td>\n",
       "      <td>199a18f9d2f6e196c2e255396f7271d5</td>\n",
       "      <td>4d5bb9227a35002b5ccc959e90e5e394</td>\n",
       "      <td>2015-01-24 16:29:00</td>\n",
       "      <td>2012-09-29 17:04:00</td>\n",
       "    </tr>\n",
       "    <tr>\n",
       "      <th>6825</th>\n",
       "      <td>2015-01-24 16:57:00</td>\n",
       "      <td>199a18f9d2f6e196c2e255396f7271d5</td>\n",
       "      <td>4d5bb9227a35002b5ccc959e90e5e394</td>\n",
       "      <td>2015-01-24 16:29:00</td>\n",
       "      <td>2012-09-29 17:15:00</td>\n",
       "    </tr>\n",
       "    <tr>\n",
       "      <th>5627</th>\n",
       "      <td>2015-01-20 16:34:00</td>\n",
       "      <td>c1953ca6b090a009d5ec56952ae46e75</td>\n",
       "      <td>a9510422a34eb18d11dfacf02217dbff</td>\n",
       "      <td>2014-10-22 20:29:00</td>\n",
       "      <td>2014-12-26 18:42:00</td>\n",
       "    </tr>\n",
       "    <tr>\n",
       "      <th>5628</th>\n",
       "      <td>2015-01-20 16:34:00</td>\n",
       "      <td>c1953ca6b090a009d5ec56952ae46e75</td>\n",
       "      <td>a9510422a34eb18d11dfacf02217dbff</td>\n",
       "      <td>2014-10-22 20:29:00</td>\n",
       "      <td>2014-12-29 16:01:00</td>\n",
       "    </tr>\n",
       "    <tr>\n",
       "      <th>13419</th>\n",
       "      <td>2015-02-20 10:13:00</td>\n",
       "      <td>f4b0355a42e79ef25ad6c1e776c8c055</td>\n",
       "      <td>e7d1b1fb8f9d845772862faa9af3a9b8</td>\n",
       "      <td>2015-02-20 10:04:00</td>\n",
       "      <td>2014-11-28 16:12:00</td>\n",
       "    </tr>\n",
       "    <tr>\n",
       "      <th>13421</th>\n",
       "      <td>2015-02-20 10:17:00</td>\n",
       "      <td>f4b0355a42e79ef25ad6c1e776c8c055</td>\n",
       "      <td>e7d1b1fb8f9d845772862faa9af3a9b8</td>\n",
       "      <td>2015-02-20 10:04:00</td>\n",
       "      <td>2014-11-28 16:12:00</td>\n",
       "    </tr>\n",
       "    <tr>\n",
       "      <th>13423</th>\n",
       "      <td>2015-02-20 16:24:00</td>\n",
       "      <td>f4b0355a42e79ef25ad6c1e776c8c055</td>\n",
       "      <td>e7d1b1fb8f9d845772862faa9af3a9b8</td>\n",
       "      <td>2015-02-20 10:04:00</td>\n",
       "      <td>2014-11-28 16:12:00</td>\n",
       "    </tr>\n",
       "    <tr>\n",
       "      <th>13420</th>\n",
       "      <td>2015-02-20 10:13:00</td>\n",
       "      <td>f4b0355a42e79ef25ad6c1e776c8c055</td>\n",
       "      <td>e7d1b1fb8f9d845772862faa9af3a9b8</td>\n",
       "      <td>2015-02-20 10:04:00</td>\n",
       "      <td>2014-11-28 17:45:00</td>\n",
       "    </tr>\n",
       "    <tr>\n",
       "      <th>13422</th>\n",
       "      <td>2015-02-20 10:17:00</td>\n",
       "      <td>f4b0355a42e79ef25ad6c1e776c8c055</td>\n",
       "      <td>e7d1b1fb8f9d845772862faa9af3a9b8</td>\n",
       "      <td>2015-02-20 10:04:00</td>\n",
       "      <td>2014-11-28 17:45:00</td>\n",
       "    </tr>\n",
       "    <tr>\n",
       "      <th>13424</th>\n",
       "      <td>2015-02-20 16:24:00</td>\n",
       "      <td>f4b0355a42e79ef25ad6c1e776c8c055</td>\n",
       "      <td>e7d1b1fb8f9d845772862faa9af3a9b8</td>\n",
       "      <td>2015-02-20 10:04:00</td>\n",
       "      <td>2014-11-28 17:45:00</td>\n",
       "    </tr>\n",
       "  </tbody>\n",
       "</table>\n",
       "</div>"
      ],
      "text/plain": [
       "        buyer_purchase_ts                          buyer_id  \\\n",
       "10887 2015-02-11 16:29:00  70acf1823d625cd82808d95968b89a3d   \n",
       "10888 2015-02-11 16:29:00  70acf1823d625cd82808d95968b89a3d   \n",
       "13840 2015-02-22 00:23:00  48fcc3d282372a0bc0f30c9efbff61c3   \n",
       "13841 2015-02-22 00:23:00  48fcc3d282372a0bc0f30c9efbff61c3   \n",
       "6826  2015-01-24 16:57:00  199a18f9d2f6e196c2e255396f7271d5   \n",
       "6825  2015-01-24 16:57:00  199a18f9d2f6e196c2e255396f7271d5   \n",
       "5627  2015-01-20 16:34:00  c1953ca6b090a009d5ec56952ae46e75   \n",
       "5628  2015-01-20 16:34:00  c1953ca6b090a009d5ec56952ae46e75   \n",
       "13419 2015-02-20 10:13:00  f4b0355a42e79ef25ad6c1e776c8c055   \n",
       "13421 2015-02-20 10:17:00  f4b0355a42e79ef25ad6c1e776c8c055   \n",
       "13423 2015-02-20 16:24:00  f4b0355a42e79ef25ad6c1e776c8c055   \n",
       "13420 2015-02-20 10:13:00  f4b0355a42e79ef25ad6c1e776c8c055   \n",
       "13422 2015-02-20 10:17:00  f4b0355a42e79ef25ad6c1e776c8c055   \n",
       "13424 2015-02-20 16:24:00  f4b0355a42e79ef25ad6c1e776c8c055   \n",
       "\n",
       "                         recommender_id buyer_trial_start_ts  \\\n",
       "10887  08949305e235bb699a78d5dbc2a41c4a  2015-02-04 16:14:00   \n",
       "10888  08949305e235bb699a78d5dbc2a41c4a  2015-02-04 16:14:00   \n",
       "13840  34de956d273b0744354913832bbd448a  2015-01-27 05:14:00   \n",
       "13841  34de956d273b0744354913832bbd448a  2015-01-27 05:14:00   \n",
       "6826   4d5bb9227a35002b5ccc959e90e5e394  2015-01-24 16:29:00   \n",
       "6825   4d5bb9227a35002b5ccc959e90e5e394  2015-01-24 16:29:00   \n",
       "5627   a9510422a34eb18d11dfacf02217dbff  2014-10-22 20:29:00   \n",
       "5628   a9510422a34eb18d11dfacf02217dbff  2014-10-22 20:29:00   \n",
       "13419  e7d1b1fb8f9d845772862faa9af3a9b8  2015-02-20 10:04:00   \n",
       "13421  e7d1b1fb8f9d845772862faa9af3a9b8  2015-02-20 10:04:00   \n",
       "13423  e7d1b1fb8f9d845772862faa9af3a9b8  2015-02-20 10:04:00   \n",
       "13420  e7d1b1fb8f9d845772862faa9af3a9b8  2015-02-20 10:04:00   \n",
       "13422  e7d1b1fb8f9d845772862faa9af3a9b8  2015-02-20 10:04:00   \n",
       "13424  e7d1b1fb8f9d845772862faa9af3a9b8  2015-02-20 10:04:00   \n",
       "\n",
       "      recommender_trial_start_ts  \n",
       "10887        2012-10-05 12:08:00  \n",
       "10888        2015-03-04 16:17:00  \n",
       "13840        2014-10-01 23:43:00  \n",
       "13841        2014-10-18 17:47:00  \n",
       "6826         2012-09-29 17:04:00  \n",
       "6825         2012-09-29 17:15:00  \n",
       "5627         2014-12-26 18:42:00  \n",
       "5628         2014-12-29 16:01:00  \n",
       "13419        2014-11-28 16:12:00  \n",
       "13421        2014-11-28 16:12:00  \n",
       "13423        2014-11-28 16:12:00  \n",
       "13420        2014-11-28 17:45:00  \n",
       "13422        2014-11-28 17:45:00  \n",
       "13424        2014-11-28 17:45:00  "
      ]
     },
     "execution_count": 12,
     "metadata": {},
     "output_type": "execute_result"
    }
   ],
   "source": [
    "data[data.recommender_id.isin(rec_nunq_trl[rec_nunq_trl > 1].index)].sort_values(['recommender_id', 'recommender_trial_start_ts'])"
   ]
  },
  {
   "cell_type": "markdown",
   "metadata": {},
   "source": [
    "Except for one recommender, these different trial starts are mostly relatively close together, just hours or days apart.\n",
    "\n",
    "Generally, we would like to use the recommender trial start as information about the recommender's knowledge of and experience with the product. A trial indicates at least some level of this. Thus, we decide to keep the more distant trial starts in this case."
   ]
  },
  {
   "cell_type": "code",
   "execution_count": 13,
   "metadata": {},
   "outputs": [
    {
     "name": "stdout",
     "output_type": "stream",
     "text": [
      "Entries dropped.\n"
     ]
    }
   ],
   "source": [
    "data.drop([10888, 13841, 6825, 5628, 13420, 13422, 13424], inplace=True)\n",
    "print('Entries dropped.')"
   ]
  },
  {
   "cell_type": "markdown",
   "metadata": {},
   "source": [
    "### Missing Observations"
   ]
  },
  {
   "cell_type": "code",
   "execution_count": 14,
   "metadata": {},
   "outputs": [
    {
     "data": {
      "text/html": [
       "<div>\n",
       "<style scoped>\n",
       "    .dataframe tbody tr th:only-of-type {\n",
       "        vertical-align: middle;\n",
       "    }\n",
       "\n",
       "    .dataframe tbody tr th {\n",
       "        vertical-align: top;\n",
       "    }\n",
       "\n",
       "    .dataframe thead th {\n",
       "        text-align: right;\n",
       "    }\n",
       "</style>\n",
       "<table border=\"1\" class=\"dataframe\">\n",
       "  <thead>\n",
       "    <tr style=\"text-align: right;\">\n",
       "      <th></th>\n",
       "      <th>buyer_purchase_ts</th>\n",
       "      <th>buyer_id</th>\n",
       "      <th>recommender_id</th>\n",
       "      <th>buyer_trial_start_ts</th>\n",
       "      <th>recommender_trial_start_ts</th>\n",
       "    </tr>\n",
       "  </thead>\n",
       "  <tbody>\n",
       "    <tr>\n",
       "      <th>% of unavailable data</th>\n",
       "      <td>0.0</td>\n",
       "      <td>0.0</td>\n",
       "      <td>0.0</td>\n",
       "      <td>0.0</td>\n",
       "      <td>60.534032</td>\n",
       "    </tr>\n",
       "  </tbody>\n",
       "</table>\n",
       "</div>"
      ],
      "text/plain": [
       "                       buyer_purchase_ts  buyer_id  recommender_id  \\\n",
       "% of unavailable data                0.0       0.0             0.0   \n",
       "\n",
       "                       buyer_trial_start_ts  recommender_trial_start_ts  \n",
       "% of unavailable data                   0.0                   60.534032  "
      ]
     },
     "execution_count": 14,
     "metadata": {},
     "output_type": "execute_result"
    }
   ],
   "source": [
    "pd.DataFrame(data.isnull().mean().rename('% of unavailable data')).T * 100"
   ]
  },
  {
   "cell_type": "markdown",
   "metadata": {},
   "source": [
    "The only unavailable data are for the trial start date of recommenders (~61%). \n",
    "\n",
    "This could be because\n",
    "* these data are not available but do exist\n",
    "* these recommenders never started a trial\n",
    "\n",
    "Telling these two explanations apart would be of great interest. The latter relates to the extent of word of mouth recommendations through \"hearsay\". *For example, I might hear about the company on a podcast and recommend it to somebody who is in need of the product - even though I never used it myself.*\n",
    "\n",
    "We revisit this below."
   ]
  },
  {
   "cell_type": "markdown",
   "metadata": {},
   "source": [
    "### Some Facts About Buyers and Recommenders"
   ]
  },
  {
   "cell_type": "code",
   "execution_count": 15,
   "metadata": {},
   "outputs": [
    {
     "name": "stdout",
     "output_type": "stream",
     "text": [
      "Buyers\n",
      "------\n",
      "Unique: 15614 \n",
      "Multiple purchases: 345\n",
      "Multiple purchase times: 257\n",
      "Multiple recommenders: 144\n",
      "Multiple recommenders at same purchase time: 43\n",
      "\n",
      "\n",
      "Recommenders\n",
      "------------\n",
      "Unique: 15373\n",
      "Recommended multiple buyers: 349\n",
      "Listed for multiple purchases: 553\n",
      "\n",
      "\n"
     ]
    },
    {
     "data": {
      "image/png": "[encoded data removed]",
      "text/plain": [
       "<Figure size 720x432 with 6 Axes>"
      ]
     },
     "metadata": {},
     "output_type": "display_data"
    }
   ],
   "source": [
    "print('Buyers')\n",
    "print('------')\n",
    "print('Unique: {} '.format(data.buyer_id.nunique()))\n",
    "print('Multiple purchases: {}'.format(\n",
    "    (data.groupby('buyer_id').buyer_purchase_ts.count() > 1).sum()))\n",
    "print('Multiple purchase times: {}'.format(\n",
    "    (data.groupby('buyer_id').buyer_purchase_ts.nunique() > 1).sum()))\n",
    "print('Multiple recommenders: {}'.format(\n",
    "    (data.groupby('buyer_id').recommender_id.nunique() >1).sum()))\n",
    "print('Multiple recommenders at same purchase time: {}'.format(\n",
    "    (data.groupby(['buyer_id', 'buyer_purchase_ts']).recommender_id.nunique() > 1).sum()))\n",
    "print('\\n')\n",
    "\n",
    "\n",
    "print('Recommenders')\n",
    "print('------------')\n",
    "print('Unique: {}'.format(data.recommender_id.nunique()))\n",
    "print('Recommended multiple buyers: {}'.format(\n",
    "    (data.groupby('recommender_id').buyer_id.nunique() > 1).sum()))\n",
    "print('Listed for multiple purchases: {}'.format(\n",
    "    (data.groupby('recommender_id').buyer_purchase_ts.count() > 1).sum()))\n",
    "print('\\n')\n",
    "\n",
    "fig, ax = plt.subplots(ncols=3, nrows=2, figsize=(10,6))\n",
    "\n",
    "data.groupby('buyer_id').buyer_purchase_ts.count().value_counts().sort_index().plot.bar(logy=True, ax=ax[0,0])\n",
    "ax[0,0].set_title('Purchases per Buyer')\n",
    "ax[0,0].set_xlabel('Number of purchases')\n",
    "\n",
    "data.groupby('buyer_id').buyer_purchase_ts.nunique().value_counts().sort_index().plot.bar(logy=True, ax=ax[0,1])\n",
    "ax[0,1].set_title('Multiple Purchase Times per Buyer')\n",
    "ax[0,1].set_xlabel('Number of Purchase Times')\n",
    "\n",
    "data.groupby('buyer_id').recommender_id.nunique().value_counts().sort_index().plot.bar(logy=True, ax=ax[1,0])\n",
    "ax[1,0].set_title('Recommenders per Buyer')\n",
    "ax[1,0].set_xlabel('Number of recommenders')\n",
    "\n",
    "data.groupby(['buyer_id', 'buyer_purchase_ts']).recommender_id.nunique().value_counts().sort_index().plot.bar(logy=True, ax=ax[1,1])\n",
    "ax[1,1].set_title('Recommenders per Buyer Purchase Time')\n",
    "ax[1,1].set_xlabel('Number of recommenders')\n",
    "\n",
    "data.groupby('recommender_id').buyer_id.nunique().value_counts().sort_index().plot.bar(logy=True, ax=ax[0,2])\n",
    "ax[0,2].set_title('Buyers per Recommender')\n",
    "ax[0,2].set_xlabel('Number of buyers')\n",
    "\n",
    "data.groupby('recommender_id').buyer_purchase_ts.count().value_counts().sort_index().plot.bar(logy=True, ax=ax[1,2])\n",
    "ax[1,2].set_title('Purchases per Recommender')\n",
    "ax[1,2].set_xlabel('Number of purchases')\n",
    "fig.tight_layout()"
   ]
  },
  {
   "cell_type": "markdown",
   "metadata": {},
   "source": [
    "### Recommendation Chains / Networks"
   ]
  },
  {
   "cell_type": "markdown",
   "metadata": {},
   "source": [
    "It would be interesting to see whether some of the buyers show up as recommenders later on. In this case, some ``buyer_id``s would also be ``recommender_id``s."
   ]
  },
  {
   "cell_type": "code",
   "execution_count": 16,
   "metadata": {},
   "outputs": [
    {
     "name": "stdout",
     "output_type": "stream",
     "text": [
      "Are any buyer ids also recommender ids? False\n"
     ]
    }
   ],
   "source": [
    "print('Are any buyer ids also recommender ids? {}'.format(\n",
    "    data.buyer_id.isin(data.recommender_id).any()))"
   ]
  },
  {
   "cell_type": "markdown",
   "metadata": {},
   "source": [
    "This is not the case. Several possible reasons are\n",
    "* The timespan is too short for buyers to transform into recommenders\n",
    "* Recommended users are unlikely to recommend\n",
    "* The anonymization was not done simultaneously for buyers and recommenders so the anonymized id's would not be identical even if they were before anonymization"
   ]
  },
  {
   "cell_type": "markdown",
   "metadata": {},
   "source": [
    "### Weekdays"
   ]
  },
  {
   "cell_type": "code",
   "execution_count": 17,
   "metadata": {},
   "outputs": [
    {
     "data": {
      "image/png": "[encoded data removed]",
      "text/plain": [
       "<Figure size 432x288 with 1 Axes>"
      ]
     },
     "metadata": {},
     "output_type": "display_data"
    }
   ],
   "source": [
    "fig = pd.concat([\n",
    "    data.buyer_purchase_ts.dt.weekday.value_counts().sort_index().rename('Purchases'),\n",
    "    data.buyer_trial_start_ts.dt.weekday.value_counts().sort_index().rename('Trial Starts')\n",
    "],\n",
    "    axis=1).plot.bar()\n",
    "fig.set_xticklabels(['Monday', 'Tuesday', 'Wednesday','Thursday','Friday','Saturday', 'Sunday'])\n",
    "plt.title('Purchases and Trial Starts by Weekday')\n",
    "plt.show()"
   ]
  },
  {
   "cell_type": "markdown",
   "metadata": {},
   "source": [
    "* There is a general drop on weekends for both trials and purchases\n",
    "* Mondays, Tuesday and Thursday have similar numbers of purchases, beating the other days. (What days feature TV or other ads?)"
   ]
  },
  {
   "cell_type": "markdown",
   "metadata": {},
   "source": [
    "### Time of Day"
   ]
  },
  {
   "cell_type": "code",
   "execution_count": 18,
   "metadata": {},
   "outputs": [
    {
     "data": {
      "image/png": "[encoded data removed]",
      "text/plain": [
       "<Figure size 432x288 with 1 Axes>"
      ]
     },
     "metadata": {},
     "output_type": "display_data"
    }
   ],
   "source": [
    "fig = pd.concat([\n",
    "    data.buyer_purchase_ts.dt.hour.value_counts().sort_index().rename('Purchases'),\n",
    "    data.buyer_trial_start_ts.dt.hour.value_counts().sort_index().rename('Trial Starts')],\n",
    "    axis=1).plot.bar()\n",
    "plt.title('Purchases and Trial Starts by Hour of Day')\n",
    "plt.show()"
   ]
  },
  {
   "cell_type": "markdown",
   "metadata": {},
   "source": [
    "Most purchases occur during daytime and the fewest during the night. (May indicate local timestamps or only US data.)"
   ]
  },
  {
   "cell_type": "markdown",
   "metadata": {},
   "source": [
    "### From Trial to Purchase"
   ]
  },
  {
   "cell_type": "code",
   "execution_count": 19,
   "metadata": {},
   "outputs": [
    {
     "name": "stdout",
     "output_type": "stream",
     "text": [
      "Share of Purchases before Trial: 0.23%\n"
     ]
    }
   ],
   "source": [
    "buy_trl_to_prchs = data.buyer_purchase_ts - data.buyer_trial_start_ts\n",
    "\n",
    "print('Share of Purchases before Trial: {:.2f}%'.format((buy_trl_to_prchs < pd.Timedelta('0ns')).mean() * 100))"
   ]
  },
  {
   "cell_type": "markdown",
   "metadata": {},
   "source": [
    "The share of purchases before trial seems negligible."
   ]
  },
  {
   "cell_type": "code",
   "execution_count": 20,
   "metadata": {},
   "outputs": [
    {
     "data": {
      "text/plain": [
       "count                       16029\n",
       "mean      76 days 12:55:21.081789\n",
       "std      165 days 10:52:41.348077\n",
       "min           -309 days +02:45:00\n",
       "25%               0 days 14:59:00\n",
       "50%              10 days 23:09:00\n",
       "75%              44 days 20:51:00\n",
       "max            1105 days 21:53:00\n",
       "dtype: object"
      ]
     },
     "execution_count": 20,
     "metadata": {},
     "output_type": "execute_result"
    }
   ],
   "source": [
    "buy_trl_to_prchs.describe()"
   ]
  },
  {
   "cell_type": "markdown",
   "metadata": {},
   "source": [
    "* 25% of purchases occur within 15 hours of the trial start\n",
    "* 50% of purchases occur within ~11 days of the trial start"
   ]
  },
  {
   "cell_type": "code",
   "execution_count": 21,
   "metadata": {},
   "outputs": [
    {
     "data": {
      "image/png": "[encoded data removed]",
      "text/plain": [
       "<Figure size 432x288 with 1 Axes>"
      ]
     },
     "metadata": {},
     "output_type": "display_data"
    }
   ],
   "source": [
    "buy_trl_to_prchs.astype('timedelta64[D]').astype(int).value_counts().sort_index().loc[0:20].plot.bar()\n",
    "plt.title('Days from Trial Start to Purchase')\n",
    "plt.xlabel('Days')\n",
    "plt.ylabel('Count')\n",
    "plt.show()"
   ]
  },
  {
   "cell_type": "markdown",
   "metadata": {},
   "source": [
    "There are spikes 13 and 14 days after trial start. The trial period is currently 14 days - looks like this was the case in 2015 as well. This would fit with the idea that a number of users would purchase right at the end of the trial."
   ]
  },
  {
   "cell_type": "markdown",
   "metadata": {},
   "source": [
    "# Hearsay Recommendations"
   ]
  },
  {
   "cell_type": "markdown",
   "metadata": {},
   "source": [
    "We noted above that an unavailable timestamp for a recommender trial start may indicate that the recommender is not a customer."
   ]
  },
  {
   "cell_type": "markdown",
   "metadata": {},
   "source": [
    "We can also find such \"hearsay\" recommendations in the data. If the recommender starts the trial after the buyer, this would be a \"hearsay\" recommendation *(assuming that users generally do not start a trial after purchasing the product)*."
   ]
  },
  {
   "cell_type": "code",
   "execution_count": 22,
   "metadata": {},
   "outputs": [
    {
     "name": "stdout",
     "output_type": "stream",
     "text": [
      "Number of times recommender started trial after buyer: 762\n"
     ]
    }
   ],
   "source": [
    "fltr_buy_trl_pre_rec_trl = data.buyer_trial_start_ts < data.recommender_trial_start_ts\n",
    "\n",
    "print('Number of times recommender started trial after buyer: {}'.format(\n",
    "    fltr_buy_trl_pre_rec_trl.sum()))"
   ]
  },
  {
   "cell_type": "markdown",
   "metadata": {},
   "source": [
    "We can use this to produce a set estimate of \"hearsay\" recommendations.\n",
    "\n",
    "First, we can assume that all unavailable data really relates to recommenders who signed up before the buyer. This allows an estimate for a lower bound of \"hearsay\" recommendations:"
   ]
  },
  {
   "cell_type": "code",
   "execution_count": 23,
   "metadata": {},
   "outputs": [
    {
     "name": "stdout",
     "output_type": "stream",
     "text": [
      "Estimated lower bound of \"hearsay\" recommendations: 4.75%\n"
     ]
    }
   ],
   "source": [
    "print('Estimated lower bound of \"hearsay\" recommendations: {:.2f}%'.format(\n",
    "    fltr_buy_trl_pre_rec_trl.mean() * 100))"
   ]
  },
  {
   "cell_type": "markdown",
   "metadata": {},
   "source": [
    "If we instead assume that the unavailable date is entirely due to \"hearsay\" recommendations, then we get an upper bound for the estimate:"
   ]
  },
  {
   "cell_type": "code",
   "execution_count": 24,
   "metadata": {},
   "outputs": [
    {
     "name": "stdout",
     "output_type": "stream",
     "text": [
      "Estimated upper bound of \"hearsay\" recommendations: 65.29%\n"
     ]
    }
   ],
   "source": [
    "up_lmt_hearsay = fltr_buy_trl_pre_rec_trl | data.recommender_trial_start_ts.isnull()\n",
    "print('Estimated upper bound of \"hearsay\" recommendations: {:.2f}%'.format(\n",
    "    (up_lmt_hearsay).mean() * 100))"
   ]
  },
  {
   "cell_type": "markdown",
   "metadata": {},
   "source": [
    "This leaves us with a rather wide range."
   ]
  },
  {
   "cell_type": "code",
   "execution_count": 25,
   "metadata": {},
   "outputs": [
    {
     "data": {
      "image/png": "[encoded data removed]",
      "text/plain": [
       "<Figure size 432x432 with 1 Axes>"
      ]
     },
     "metadata": {},
     "output_type": "display_data"
    }
   ],
   "source": [
    "#matplotlib.rc('font', **{'size': 13})\n",
    "pd.Series([fltr_buy_trl_pre_rec_trl.mean(), \n",
    "           data.recommender_trial_start_ts.isnull().mean(), \n",
    "          (~fltr_buy_trl_pre_rec_trl & data.recommender_trial_start_ts.notnull()).mean()],\n",
    "          ['After Buyer,\\n{:.2f}%'.format(fltr_buy_trl_pre_rec_trl.mean() * 100), \n",
    "           'No Information,\\n{:.2f}%'.format(data.recommender_trial_start_ts.isnull().mean() * 100), \n",
    "           'Before Buyer,\\n{:.2f}%'.format((~fltr_buy_trl_pre_rec_trl & data.recommender_trial_start_ts.notnull()).mean() * 100)\n",
    "          ]).plot.pie(startangle=120,\n",
    "                      colors=['#297fd5', '#4a66ac', '#629dd1'],\n",
    "                      wedgeprops={\"edgecolor\":\"w\", 'antialiased': True}, figsize=(6,6))\n",
    "plt.ylabel('')\n",
    "#plt.axis('equal')\n",
    "plt.title('Recommender Trial Start')\n",
    "plt.tight_layout()\n",
    "#plt.savefig('pie.png', dpi=150)"
   ]
  },
  {
   "cell_type": "markdown",
   "metadata": {},
   "source": [
    "If we assume that the unavailable data is simply missing at random, for example because the buyer misspelled the recommender's e-mail address, then we can extrapolate the share of \"hearsay\" recommendations in the available data. This yields the following estimate:"
   ]
  },
  {
   "cell_type": "code",
   "execution_count": 26,
   "metadata": {},
   "outputs": [
    {
     "name": "stdout",
     "output_type": "stream",
     "text": [
      "Estimated missing at random share of \"hearsay\" recommendations: 12.05%\n"
     ]
    }
   ],
   "source": [
    "print('Estimated missing at random share of \"hearsay\" recommendations: {:.2f}%'.format(\n",
    "          fltr_buy_trl_pre_rec_trl.sum()/data.recommender_trial_start_ts.notnull().sum() * 100))"
   ]
  },
  {
   "cell_type": "markdown",
   "metadata": {},
   "source": [
    "While it seems likely that there is a mixed reason behind the unavailable data, my intuition would tell me that the data are not missing at random and may largely relate to recommenders who are not registered. However, this is certainly something to look into more with potentially large impact on the marketing strategy."
   ]
  },
  {
   "cell_type": "markdown",
   "metadata": {},
   "source": [
    "**Finding: up to 65% of recommenders may not (yet) be customers themselves**"
   ]
  },
  {
   "cell_type": "markdown",
   "metadata": {},
   "source": [
    "**Hypothesis: Unavailable observations are largely due to \"hearsay\" recommendations** "
   ]
  },
  {
   "cell_type": "markdown",
   "metadata": {},
   "source": [
    "# Impact of the Super Bowl"
   ]
  },
  {
   "cell_type": "markdown",
   "metadata": {},
   "source": [
    "Next, we look at purchases and trials over time. We limit our attention to the two months window for which we have purchase data."
   ]
  },
  {
   "cell_type": "code",
   "execution_count": 27,
   "metadata": {},
   "outputs": [
    {
     "data": {
      "image/png": "[encoded data removed]",
      "text/plain": [
       "<Figure size 432x360 with 1 Axes>"
      ]
     },
     "metadata": {},
     "output_type": "display_data"
    }
   ],
   "source": [
    "buyer_purchase_timeseries = data.buyer_purchase_ts.astype('datetime64[D]').value_counts().sort_index()\n",
    "buyer_trial_timeseries = data.buyer_trial_start_ts.astype('datetime64[D]').value_counts()['2015-01-04':'2015-02-28'].sort_index()\n",
    "\n",
    "#matplotlib.rc('font', **{'size': 13})\n",
    "fig_ts, ax_ts = plt.subplots(figsize=(6,5))\n",
    "pd.concat([buyer_purchase_timeseries.rename('Purchases'), buyer_trial_timeseries.rename('Trial Starts')], axis=1).plot(ax=ax_ts)\n",
    "ax_ts.axvline('2015-02-01', color='black', linestyle='--', linewidth=1, label='Super Bowl')\n",
    "ax_ts.set_title('Daily Purchases and Trials of Buyers')\n",
    "plt.legend()\n",
    "plt.tight_layout()\n",
    "#plt.savefig('ts.png', dpi=150)\n",
    "plt.show()"
   ]
  },
  {
   "cell_type": "markdown",
   "metadata": {},
   "source": [
    "We can generally find a serrated pattern that is similar for both time series. This relates to our findings from purchases and trials grouped by weekday [above](#Weekdays). There, we saw that weekends are less active.\n",
    "\n",
    "Interestingly, the number of purchases takes a dive after February 1, 2015 - the day of the Super Bowl. The company runs ads during the Super Bowl.\n",
    "\n",
    "At first sight, this finding might be counterintuitive. However, customers are only in the data set if they\n",
    "1. purchased between January 1 and February 28 of 2015 and\n",
    "2. listed a recommender.\n",
    "\n",
    "Thus, it seems more likely that merely the reported recommendations dropped after the Super Bowl Ad since people were already aware of the product because of the ad. This would be a crowding out effect.\n",
    "\n",
    "*Remark: the lower level of the trial start time series and it's downward trend can be explained by the sampling. The lower level results since the number of trials and purchases in the data is roughly similar. However, trial starts range over a longer time so we would expect them to be at a lower level during the considered window. As for the downward slope, most purchases occur after trial and the data set only contains purchases until the end of February.*"
   ]
  },
  {
   "cell_type": "markdown",
   "metadata": {},
   "source": [
    "**Finding: Super Bowl Ad leads to a drop in reported recommendations.**"
   ]
  },
  {
   "cell_type": "markdown",
   "metadata": {},
   "source": [
    "**Hypothesis: Recommendation campaigns are less effective after alternative campaigns**"
   ]
  },
  {
   "cell_type": "markdown",
   "metadata": {},
   "source": [
    "# From Recommender to Buyer Trial"
   ]
  },
  {
   "cell_type": "markdown",
   "metadata": {},
   "source": [
    "We look at the number of buyers per recommender again."
   ]
  },
  {
   "cell_type": "code",
   "execution_count": 28,
   "metadata": {},
   "outputs": [
    {
     "name": "stdout",
     "output_type": "stream",
     "text": [
      "Buyers per Recommender in %\n"
     ]
    },
    {
     "data": {
      "text/html": [
       "<div>\n",
       "<style scoped>\n",
       "    .dataframe tbody tr th:only-of-type {\n",
       "        vertical-align: middle;\n",
       "    }\n",
       "\n",
       "    .dataframe tbody tr th {\n",
       "        vertical-align: top;\n",
       "    }\n",
       "\n",
       "    .dataframe thead th {\n",
       "        text-align: right;\n",
       "    }\n",
       "</style>\n",
       "<table border=\"1\" class=\"dataframe\">\n",
       "  <thead>\n",
       "    <tr style=\"text-align: right;\">\n",
       "      <th></th>\n",
       "      <th>Without Trial Data</th>\n",
       "      <th>With Trial Data</th>\n",
       "    </tr>\n",
       "  </thead>\n",
       "  <tbody>\n",
       "    <tr>\n",
       "      <th>1</th>\n",
       "      <td>98.25</td>\n",
       "      <td>96.91</td>\n",
       "    </tr>\n",
       "    <tr>\n",
       "      <th>2</th>\n",
       "      <td>1.60</td>\n",
       "      <td>2.84</td>\n",
       "    </tr>\n",
       "    <tr>\n",
       "      <th>3</th>\n",
       "      <td>0.10</td>\n",
       "      <td>0.20</td>\n",
       "    </tr>\n",
       "    <tr>\n",
       "      <th>4</th>\n",
       "      <td>0.03</td>\n",
       "      <td>0.03</td>\n",
       "    </tr>\n",
       "    <tr>\n",
       "      <th>5</th>\n",
       "      <td>0.01</td>\n",
       "      <td>NaN</td>\n",
       "    </tr>\n",
       "    <tr>\n",
       "      <th>6</th>\n",
       "      <td>0.01</td>\n",
       "      <td>NaN</td>\n",
       "    </tr>\n",
       "    <tr>\n",
       "      <th>7</th>\n",
       "      <td>NaN</td>\n",
       "      <td>0.02</td>\n",
       "    </tr>\n",
       "  </tbody>\n",
       "</table>\n",
       "</div>"
      ],
      "text/plain": [
       "   Without Trial Data  With Trial Data\n",
       "1               98.25            96.91\n",
       "2                1.60             2.84\n",
       "3                0.10             0.20\n",
       "4                0.03             0.03\n",
       "5                0.01              NaN\n",
       "6                0.01              NaN\n",
       "7                 NaN             0.02"
      ]
     },
     "execution_count": 28,
     "metadata": {},
     "output_type": "execute_result"
    }
   ],
   "source": [
    "print('Buyers per Recommender in %')\n",
    "(pd.concat([\n",
    "    data[data.isnull().any(axis=1)].groupby('recommender_id').buyer_id.nunique().value_counts(normalize=True).rename('Without Trial Data'),\n",
    "    data.dropna().groupby('recommender_id').buyer_id.nunique().value_counts(normalize=True).rename('With Trial Data')\n",
    "], axis=1).sort_index() * 100).round(2)"
   ]
  },
  {
   "cell_type": "markdown",
   "metadata": {},
   "source": [
    "We can see that the vast majority of recommenders, both with without available data, recommended only one buyer (in the two months sample period)."
   ]
  },
  {
   "cell_type": "markdown",
   "metadata": {},
   "source": [
    "Next, we take a look the duration from a recommender to a buyer trial. In the back of our head, we have the idea that the buyer trial sign-up is closely related to the time of recommendation.\n",
    "\n",
    "*Remark: from [above](#From-Trial-to-Purchase) we can extrapolate that the results would mostly be shifted by a couple days when looking at buyer purchases rather than trial starts.*"
   ]
  },
  {
   "cell_type": "code",
   "execution_count": 29,
   "metadata": {},
   "outputs": [
    {
     "name": "stdout",
     "output_type": "stream",
     "text": [
      "Trial before recommender trial: 12.05%\n",
      "Trial within 24 hours of recommender trial: 12.44%\n",
      "Trial within 4 weeks of recommender trial: 19.02%\n",
      "Trial within 1 year of recommender trial: 59.64%\n"
     ]
    }
   ],
   "source": [
    "lag_buy_trl_rec_trl = (data.buyer_trial_start_ts - data.recommender_trial_start_ts).dropna()\n",
    "\n",
    "trl_pre_rec = (lag_buy_trl_rec_trl < pd.Timedelta('0ns'))\n",
    "trl_same_day = (lag_buy_trl_rec_trl >= pd.Timedelta('0ns')) & (lag_buy_trl_rec_trl < pd.Timedelta('1D'))\n",
    "trl_4_weeks = (lag_buy_trl_rec_trl >= pd.Timedelta('0ns')) & (lag_buy_trl_rec_trl < pd.Timedelta('28D'))\n",
    "trl_year = (lag_buy_trl_rec_trl >= pd.Timedelta('0ns')) & (lag_buy_trl_rec_trl < pd.Timedelta('365D'))\n",
    "\n",
    "print('Trial before recommender trial: {:.2f}%'.format(trl_pre_rec.mean()*100))\n",
    "print('Trial within 24 hours of recommender trial: {:.2f}%'.format(trl_same_day.mean()*100))\n",
    "print('Trial within 4 weeks of recommender trial: {:.2f}%'.format(trl_4_weeks.mean()*100))\n",
    "print('Trial within 1 year of recommender trial: {:.2f}%'.format(trl_year.mean()*100))"
   ]
  },
  {
   "cell_type": "markdown",
   "metadata": {},
   "source": [
    "We can see that many buyer trials follow soon after recommender trials."
   ]
  },
  {
   "cell_type": "code",
   "execution_count": 30,
   "metadata": {},
   "outputs": [
    {
     "data": {
      "image/png": "[encoded data removed]",
      "text/plain": [
       "<Figure size 432x432 with 2 Axes>"
      ]
     },
     "metadata": {},
     "output_type": "display_data"
    }
   ],
   "source": [
    "#matplotlib.rc('font', **{'size': 13})\n",
    "fig_dly, ax_dly = plt.subplots(figsize=(6,6), nrows=2)\n",
    "\n",
    "pd.concat([\n",
    "    data.groupby('recommender_id').buyer_id.nunique().value_counts(normalize=False).rename('No Trial Data'),\n",
    "    data.dropna().groupby('recommender_id').buyer_id.nunique().value_counts(normalize=False).rename('With Trial Data')\n",
    "], axis=1).sort_index().plot.bar(logy=True, ax=ax_dly[0], rot=0)\n",
    "ax_dly[0].set_title('Buyers per Recommender')\n",
    "ax_dly[0].set_ylabel('Count')\n",
    "ax_dly[0].set_xlabel('Number of buyers')\n",
    "\n",
    "(lag_buy_trl_rec_trl.dropna()/pd.Timedelta('7D')).plot.hist(bins=30, ax=ax_dly[1])\n",
    "ax_dly[1].set_title('Weeks from Recommender to Buyer Trial',)\n",
    "ax_dly[1].set_xlabel('Weeks')\n",
    "plt.tight_layout()\n",
    "#plt.savefig('dly.png', dpi=150)\n",
    "plt.show()"
   ]
  },
  {
   "cell_type": "markdown",
   "metadata": {},
   "source": [
    "The histogram shows a steady decline in frequencies the further we move from the recommender trial start date. \n",
    "\n",
    "Taken together, it appears that recommenders are likely to recommend once soon after sign-up (note that these are only the recommendations leading to purchases). "
   ]
  },
  {
   "cell_type": "markdown",
   "metadata": {},
   "source": [
    "**Finding: Most buyers trial within a year of recommenders**\n",
    "\n",
    "**Hypothesis: Recommenders need incentives to recommend again**"
   ]
  }
 ],
 "metadata": {
  "kernelspec": {
   "display_name": "Python 3",
   "language": "python",
   "name": "python3"
  },
  "language_info": {
   "codemirror_mode": {
    "name": "ipython",
    "version": 3
   },
   "file_extension": ".py",
   "mimetype": "text/x-python",
   "name": "python",
   "nbconvert_exporter": "python",
   "pygments_lexer": "ipython3",
   "version": "3.6.6"
  }
 },
 "nbformat": 4,
 "nbformat_minor": 2
}
